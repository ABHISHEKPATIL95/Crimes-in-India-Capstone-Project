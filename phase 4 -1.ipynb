{
 "cells": [
  {
   "cell_type": "code",
   "execution_count": 9,
   "id": "8db41a05",
   "metadata": {},
   "outputs": [],
   "source": [
    "import pandas as pd\n",
    "from sklearn.cluster import KMeans\n",
    "from zipfile import ZipFile\n"
   ]
  },
  {
   "cell_type": "code",
   "execution_count": 19,
   "id": "d97a9388",
   "metadata": {},
   "outputs": [
    {
     "ename": "SyntaxError",
     "evalue": "invalid syntax (2694811172.py, line 7)",
     "output_type": "error",
     "traceback": [
      "\u001b[1;36m  Cell \u001b[1;32mIn[19], line 7\u001b[1;36m\u001b[0m\n\u001b[1;33m    with ZipFile(C:\\Users\\ABHI\\Downloads\\India_Crime - Copy (5).zip, 'r') as zip_file:\u001b[0m\n\u001b[1;37m                  ^\u001b[0m\n\u001b[1;31mSyntaxError\u001b[0m\u001b[1;31m:\u001b[0m invalid syntax\n"
     ]
    }
   ],
   "source": [
    "import pandas as pd\n",
    "\n",
    "# Specify the path to the ZIP file\n",
    "zip_file_path = 'C:/Users/ABHI/.ipynb_checkpoints/India_Crime - Copy/India_Crime - Copy/India_Crime - Copy.zip'\n",
    "\n",
    "# Extract the CSV file from the ZIP file\n",
    "with ZipFile(C:\\Users\\ABHI\\Downloads\\India_Crime - Copy (5).zip, 'r') as zip_file:\n",
    "    # Assuming the desired file is named \"India_Crime.csv\"\n",
    "    csv_filename = 'India_Crime - Copy/India_Crime - Copy/India_Crime - Copy/India_Crime.csv'\n",
    "    extracted_csv_path = zip_file.extract(csv_filename)\n",
    "\n",
    "# Load the extracted CSV file\n",
    "data = pd.read_csv(C:\\Users\\ABHI\\Downloads\\India_Crime - Copy\\India_Crime - Copy)\n",
    "\n",
    "# Proceed with the remaining steps for clustering and analysis\n",
    "# ...\n"
   ]
  },
  {
   "cell_type": "code",
   "execution_count": 20,
   "id": "b08cff06",
   "metadata": {},
   "outputs": [
    {
     "ename": "NameError",
     "evalue": "name 'data' is not defined",
     "output_type": "error",
     "traceback": [
      "\u001b[1;31m---------------------------------------------------------------------------\u001b[0m",
      "\u001b[1;31mNameError\u001b[0m                                 Traceback (most recent call last)",
      "Cell \u001b[1;32mIn[20], line 4\u001b[0m\n\u001b[0;32m      1\u001b[0m \u001b[38;5;66;03m# Extract the relevant columns for clustering\u001b[39;00m\n\u001b[0;32m      2\u001b[0m \u001b[38;5;66;03m# Specify the columns that contain information relevant to the area categories\u001b[39;00m\n\u001b[0;32m      3\u001b[0m \u001b[38;5;66;03m# For example, if the dataset has a 'Area' column that indicates the area type, use that column\u001b[39;00m\n\u001b[1;32m----> 4\u001b[0m area_data \u001b[38;5;241m=\u001b[39m \u001b[43mdata\u001b[49m[[\u001b[38;5;124m'\u001b[39m\u001b[38;5;124mArea\u001b[39m\u001b[38;5;124m'\u001b[39m]]\n",
      "\u001b[1;31mNameError\u001b[0m: name 'data' is not defined"
     ]
    }
   ],
   "source": [
    "\n",
    "# Extract the relevant columns for clustering\n",
    "# Specify the columns that contain information relevant to the area categories\n",
    "# For example, if the dataset has a 'Area' column that indicates the area type, use that column\n",
    "area_data = data[['Area']]\n"
   ]
  },
  {
   "cell_type": "code",
   "execution_count": 21,
   "id": "3fb6b81d",
   "metadata": {},
   "outputs": [
    {
     "ename": "NameError",
     "evalue": "name 'area_data' is not defined",
     "output_type": "error",
     "traceback": [
      "\u001b[1;31m---------------------------------------------------------------------------\u001b[0m",
      "\u001b[1;31mNameError\u001b[0m                                 Traceback (most recent call last)",
      "Cell \u001b[1;32mIn[21], line 2\u001b[0m\n\u001b[0;32m      1\u001b[0m kmeans \u001b[38;5;241m=\u001b[39m KMeans(n_clusters\u001b[38;5;241m=\u001b[39m\u001b[38;5;241m3\u001b[39m, random_state\u001b[38;5;241m=\u001b[39m\u001b[38;5;241m42\u001b[39m)\n\u001b[1;32m----> 2\u001b[0m kmeans\u001b[38;5;241m.\u001b[39mfit(\u001b[43marea_data\u001b[49m)\n",
      "\u001b[1;31mNameError\u001b[0m: name 'area_data' is not defined"
     ]
    }
   ],
   "source": [
    "\n",
    "kmeans = KMeans(n_clusters=3, random_state=42)\n",
    "kmeans.fit(area_data)\n"
   ]
  },
  {
   "cell_type": "code",
   "execution_count": 22,
   "id": "7e8003fe",
   "metadata": {},
   "outputs": [
    {
     "ename": "AttributeError",
     "evalue": "'KMeans' object has no attribute 'labels_'",
     "output_type": "error",
     "traceback": [
      "\u001b[1;31m---------------------------------------------------------------------------\u001b[0m",
      "\u001b[1;31mAttributeError\u001b[0m                            Traceback (most recent call last)",
      "Cell \u001b[1;32mIn[22], line 2\u001b[0m\n\u001b[0;32m      1\u001b[0m \u001b[38;5;66;03m# Assign cluster labels to the data points\u001b[39;00m\n\u001b[1;32m----> 2\u001b[0m cluster_labels \u001b[38;5;241m=\u001b[39m \u001b[43mkmeans\u001b[49m\u001b[38;5;241;43m.\u001b[39;49m\u001b[43mlabels_\u001b[49m\n",
      "\u001b[1;31mAttributeError\u001b[0m: 'KMeans' object has no attribute 'labels_'"
     ]
    }
   ],
   "source": [
    "\n",
    "# Assign cluster labels to the data points\n",
    "cluster_labels = kmeans.labels_\n"
   ]
  },
  {
   "cell_type": "code",
   "execution_count": 23,
   "id": "cabdd664",
   "metadata": {},
   "outputs": [
    {
     "ename": "NameError",
     "evalue": "name 'cluster_labels' is not defined",
     "output_type": "error",
     "traceback": [
      "\u001b[1;31m---------------------------------------------------------------------------\u001b[0m",
      "\u001b[1;31mNameError\u001b[0m                                 Traceback (most recent call last)",
      "Cell \u001b[1;32mIn[23], line 2\u001b[0m\n\u001b[0;32m      1\u001b[0m \u001b[38;5;66;03m# Add cluster labels to the original dataset\u001b[39;00m\n\u001b[1;32m----> 2\u001b[0m data[\u001b[38;5;124m'\u001b[39m\u001b[38;5;124mCluster\u001b[39m\u001b[38;5;124m'\u001b[39m] \u001b[38;5;241m=\u001b[39m \u001b[43mcluster_labels\u001b[49m\n",
      "\u001b[1;31mNameError\u001b[0m: name 'cluster_labels' is not defined"
     ]
    }
   ],
   "source": [
    "\n",
    "# Add cluster labels to the original dataset\n",
    "data['Cluster'] = cluster_labels\n",
    "\n"
   ]
  },
  {
   "cell_type": "code",
   "execution_count": 24,
   "id": "07e7dc08",
   "metadata": {},
   "outputs": [
    {
     "ename": "NameError",
     "evalue": "name 'data' is not defined",
     "output_type": "error",
     "traceback": [
      "\u001b[1;31m---------------------------------------------------------------------------\u001b[0m",
      "\u001b[1;31mNameError\u001b[0m                                 Traceback (most recent call last)",
      "Cell \u001b[1;32mIn[24], line 2\u001b[0m\n\u001b[0;32m      1\u001b[0m \u001b[38;5;66;03m# Create DataFrames for each cluster\u001b[39;00m\n\u001b[1;32m----> 2\u001b[0m cluster_1_df \u001b[38;5;241m=\u001b[39m \u001b[43mdata\u001b[49m[data[\u001b[38;5;124m'\u001b[39m\u001b[38;5;124mCluster\u001b[39m\u001b[38;5;124m'\u001b[39m] \u001b[38;5;241m==\u001b[39m \u001b[38;5;241m0\u001b[39m]\n\u001b[0;32m      3\u001b[0m cluster_2_df \u001b[38;5;241m=\u001b[39m data[data[\u001b[38;5;124m'\u001b[39m\u001b[38;5;124mCluster\u001b[39m\u001b[38;5;124m'\u001b[39m] \u001b[38;5;241m==\u001b[39m \u001b[38;5;241m1\u001b[39m]\n\u001b[0;32m      4\u001b[0m cluster_3_df \u001b[38;5;241m=\u001b[39m data[data[\u001b[38;5;124m'\u001b[39m\u001b[38;5;124mCluster\u001b[39m\u001b[38;5;124m'\u001b[39m] \u001b[38;5;241m==\u001b[39m \u001b[38;5;241m2\u001b[39m]\n",
      "\u001b[1;31mNameError\u001b[0m: name 'data' is not defined"
     ]
    }
   ],
   "source": [
    "# Create DataFrames for each cluster\n",
    "cluster_1_df = data[data['Cluster'] == 0]\n",
    "cluster_2_df = data[data['Cluster'] == 1]\n",
    "cluster_3_df = data[data['Cluster'] == 2]\n"
   ]
  },
  {
   "cell_type": "code",
   "execution_count": 25,
   "id": "a900bd99",
   "metadata": {},
   "outputs": [
    {
     "ename": "NameError",
     "evalue": "name 'cluster_1_df' is not defined",
     "output_type": "error",
     "traceback": [
      "\u001b[1;31m---------------------------------------------------------------------------\u001b[0m",
      "\u001b[1;31mNameError\u001b[0m                                 Traceback (most recent call last)",
      "Cell \u001b[1;32mIn[25], line 2\u001b[0m\n\u001b[0;32m      1\u001b[0m \u001b[38;5;66;03m# Print the sizes of each cluster for verification\u001b[39;00m\n\u001b[1;32m----> 2\u001b[0m \u001b[38;5;28mprint\u001b[39m(\u001b[38;5;124m\"\u001b[39m\u001b[38;5;124mCluster 1 size:\u001b[39m\u001b[38;5;124m\"\u001b[39m, \u001b[38;5;28mlen\u001b[39m(\u001b[43mcluster_1_df\u001b[49m))\n\u001b[0;32m      3\u001b[0m \u001b[38;5;28mprint\u001b[39m(\u001b[38;5;124m\"\u001b[39m\u001b[38;5;124mCluster 2 size:\u001b[39m\u001b[38;5;124m\"\u001b[39m, \u001b[38;5;28mlen\u001b[39m(cluster_2_df))\n\u001b[0;32m      4\u001b[0m \u001b[38;5;28mprint\u001b[39m(\u001b[38;5;124m\"\u001b[39m\u001b[38;5;124mCluster 3 size:\u001b[39m\u001b[38;5;124m\"\u001b[39m, \u001b[38;5;28mlen\u001b[39m(cluster_3_df))\n",
      "\u001b[1;31mNameError\u001b[0m: name 'cluster_1_df' is not defined"
     ]
    }
   ],
   "source": [
    "\n",
    "# Print the sizes of each cluster for verification\n",
    "print(\"Cluster 1 size:\", len(cluster_1_df))\n",
    "print(\"Cluster 2 size:\", len(cluster_2_df))\n",
    "print(\"Cluster 3 size:\", len(cluster_3_df))\n"
   ]
  },
  {
   "cell_type": "code",
   "execution_count": null,
   "id": "35a6d012",
   "metadata": {},
   "outputs": [],
   "source": []
  },
  {
   "cell_type": "code",
   "execution_count": null,
   "id": "b55fe701",
   "metadata": {},
   "outputs": [],
   "source": []
  },
  {
   "cell_type": "code",
   "execution_count": null,
   "id": "ede6982a",
   "metadata": {},
   "outputs": [],
   "source": []
  },
  {
   "cell_type": "code",
   "execution_count": null,
   "id": "733e1111",
   "metadata": {},
   "outputs": [],
   "source": []
  },
  {
   "cell_type": "code",
   "execution_count": null,
   "id": "066ee0c0",
   "metadata": {},
   "outputs": [],
   "source": []
  }
 ],
 "metadata": {
  "kernelspec": {
   "display_name": "Python 3 (ipykernel)",
   "language": "python",
   "name": "python3"
  },
  "language_info": {
   "codemirror_mode": {
    "name": "ipython",
    "version": 3
   },
   "file_extension": ".py",
   "mimetype": "text/x-python",
   "name": "python",
   "nbconvert_exporter": "python",
   "pygments_lexer": "ipython3",
   "version": "3.10.9"
  }
 },
 "nbformat": 4,
 "nbformat_minor": 5
}
