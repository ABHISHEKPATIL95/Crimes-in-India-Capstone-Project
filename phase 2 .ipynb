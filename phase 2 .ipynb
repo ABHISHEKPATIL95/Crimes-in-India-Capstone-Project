{
 "cells": [
  {
   "cell_type": "code",
   "execution_count": 21,
   "id": "9036e2d8",
   "metadata": {},
   "outputs": [],
   "source": [
    "import pandas as pd\n",
    "import matplotlib.pyplot as plt\n",
    "import zipfile\n",
    "import tempfile\n",
    "import os"
   ]
  },
  {
   "cell_type": "code",
   "execution_count": 22,
   "id": "3481a72c",
   "metadata": {},
   "outputs": [],
   "source": [
    "\n",
    "def crime_analysis():\n",
    "    # Load the dataset\n",
    "    crime_data = pd.read_csv(r'\"C:\\Users\\ABHI\\Downloads\\India_Crime - Copy\"')  # Replace 'path/to/India_Crime.csv' with the actual path to the dataset"
   ]
  },
  {
   "cell_type": "code",
   "execution_count": 23,
   "id": "0ac8a9d8",
   "metadata": {},
   "outputs": [],
   "source": [
    "\n",
    "def crime_analysis(crime_data):\n",
    "    literacy_rate_vs_crimes = crime_data.groupby('Literacy Rate')['Total Crimes'].sum()\n",
    "    print(\"Analysis of Literacy Rate vs Total Crimes:\")\n",
    "    print(literacy_rate_vs_crimes)\n"
   ]
  },
  {
   "cell_type": "code",
   "execution_count": 24,
   "id": "e2fb7633",
   "metadata": {},
   "outputs": [
    {
     "ename": "SyntaxError",
     "evalue": "incomplete input (381471481.py, line 5)",
     "output_type": "error",
     "traceback": [
      "\u001b[1;36m  Cell \u001b[1;32mIn[24], line 5\u001b[1;36m\u001b[0m\n\u001b[1;33m    print(crime_type_vs_state_literacy\u001b[0m\n\u001b[1;37m                                      ^\u001b[0m\n\u001b[1;31mSyntaxError\u001b[0m\u001b[1;31m:\u001b[0m incomplete input\n"
     ]
    }
   ],
   "source": [
    "    # Analysis of the type of crime vs each state vs Literacy rate\n",
    "\n",
    "crime_type_vs_state_literacy = crime_data.groupby(['State', 'Crime Type'])['Literacy Rate'].mean()\n",
    "    print(\"\\nAnalysis of the type of crime vs each state vs Literacy rate:\")\n",
    "    print(crime_type_vs_state_literacy"
   ]
  },
  {
   "cell_type": "code",
   "execution_count": 25,
   "id": "dc909765",
   "metadata": {},
   "outputs": [
    {
     "ename": "NameError",
     "evalue": "name 'crime_data' is not defined",
     "output_type": "error",
     "traceback": [
      "\u001b[1;31m---------------------------------------------------------------------------\u001b[0m",
      "\u001b[1;31mNameError\u001b[0m                                 Traceback (most recent call last)",
      "Cell \u001b[1;32mIn[25], line 2\u001b[0m\n\u001b[0;32m      1\u001b[0m \u001b[38;5;66;03m# Analysis of year-on-year total crime rate\u001b[39;00m\n\u001b[1;32m----> 2\u001b[0m crime_data[\u001b[38;5;124m'\u001b[39m\u001b[38;5;124mYear\u001b[39m\u001b[38;5;124m'\u001b[39m] \u001b[38;5;241m=\u001b[39m pd\u001b[38;5;241m.\u001b[39mto_datetime(\u001b[43mcrime_data\u001b[49m[\u001b[38;5;124m'\u001b[39m\u001b[38;5;124mYear\u001b[39m\u001b[38;5;124m'\u001b[39m], \u001b[38;5;28mformat\u001b[39m\u001b[38;5;241m=\u001b[39m\u001b[38;5;124m'\u001b[39m\u001b[38;5;124m%\u001b[39m\u001b[38;5;124mY\u001b[39m\u001b[38;5;124m'\u001b[39m)  \u001b[38;5;66;03m# Convert 'Year' column to datetime\u001b[39;00m\n\u001b[0;32m      3\u001b[0m year_on_year_crime_rate \u001b[38;5;241m=\u001b[39m crime_data\u001b[38;5;241m.\u001b[39mgroupby(crime_data[\u001b[38;5;124m'\u001b[39m\u001b[38;5;124mYear\u001b[39m\u001b[38;5;124m'\u001b[39m]\u001b[38;5;241m.\u001b[39mdt\u001b[38;5;241m.\u001b[39myear)[\u001b[38;5;124m'\u001b[39m\u001b[38;5;124mTotal Crimes\u001b[39m\u001b[38;5;124m'\u001b[39m]\u001b[38;5;241m.\u001b[39msum()\u001b[38;5;241m.\u001b[39mpct_change()\n\u001b[0;32m      4\u001b[0m \u001b[38;5;28mprint\u001b[39m(\u001b[38;5;124m\"\u001b[39m\u001b[38;5;130;01m\\n\u001b[39;00m\u001b[38;5;124mAnalysis of year-on-year total crime rate:\u001b[39m\u001b[38;5;124m\"\u001b[39m)\n",
      "\u001b[1;31mNameError\u001b[0m: name 'crime_data' is not defined"
     ]
    }
   ],
   "source": [
    "\n",
    "    # Analysis of year-on-year total crime rate\n",
    "    crime_data['Year'] = pd.to_datetime(crime_data['Year'], format='%Y')  # Convert 'Year' column to datetime\n",
    "    year_on_year_crime_rate = crime_data.groupby(crime_data['Year'].dt.year)['Total Crimes'].sum().pct_change()\n",
    "    print(\"\\nAnalysis of year-on-year total crime rate:\")\n",
    "    print(year_on_year_crime_rate)"
   ]
  },
  {
   "cell_type": "code",
   "execution_count": 26,
   "id": "eaa49121",
   "metadata": {},
   "outputs": [
    {
     "ename": "NameError",
     "evalue": "name 'crime_data' is not defined",
     "output_type": "error",
     "traceback": [
      "\u001b[1;31m---------------------------------------------------------------------------\u001b[0m",
      "\u001b[1;31mNameError\u001b[0m                                 Traceback (most recent call last)",
      "Cell \u001b[1;32mIn[26], line 2\u001b[0m\n\u001b[0;32m      1\u001b[0m \u001b[38;5;66;03m# Analysis of area vs overall crime\u001b[39;00m\n\u001b[1;32m----> 2\u001b[0m area_vs_overall_crime \u001b[38;5;241m=\u001b[39m \u001b[43mcrime_data\u001b[49m\u001b[38;5;241m.\u001b[39mgroupby(\u001b[38;5;124m'\u001b[39m\u001b[38;5;124mArea\u001b[39m\u001b[38;5;124m'\u001b[39m)[\u001b[38;5;124m'\u001b[39m\u001b[38;5;124mTotal Crimes\u001b[39m\u001b[38;5;124m'\u001b[39m]\u001b[38;5;241m.\u001b[39msum()\n\u001b[0;32m      3\u001b[0m \u001b[38;5;28mprint\u001b[39m(\u001b[38;5;124m\"\u001b[39m\u001b[38;5;130;01m\\n\u001b[39;00m\u001b[38;5;124mAnalysis of area vs overall crime:\u001b[39m\u001b[38;5;124m\"\u001b[39m)\n\u001b[0;32m      4\u001b[0m \u001b[38;5;28mprint\u001b[39m(area_vs_overall_crime)\n",
      "\u001b[1;31mNameError\u001b[0m: name 'crime_data' is not defined"
     ]
    }
   ],
   "source": [
    "\n",
    "    # Analysis of area vs overall crime\n",
    "    area_vs_overall_crime = crime_data.groupby('Area')['Total Crimes'].sum()\n",
    "    print(\"\\nAnalysis of area vs overall crime:\")\n",
    "    print(area_vs_overall_crime)\n"
   ]
  },
  {
   "cell_type": "code",
   "execution_count": 27,
   "id": "87f4df46",
   "metadata": {},
   "outputs": [
    {
     "ename": "NameError",
     "evalue": "name 'crime_data' is not defined",
     "output_type": "error",
     "traceback": [
      "\u001b[1;31m---------------------------------------------------------------------------\u001b[0m",
      "\u001b[1;31mNameError\u001b[0m                                 Traceback (most recent call last)",
      "Cell \u001b[1;32mIn[27], line 2\u001b[0m\n\u001b[0;32m      1\u001b[0m \u001b[38;5;66;03m# Analysis of Population vs overall Crime\u001b[39;00m\n\u001b[1;32m----> 2\u001b[0m population_vs_crime \u001b[38;5;241m=\u001b[39m \u001b[43mcrime_data\u001b[49m\u001b[38;5;241m.\u001b[39mgroupby(\u001b[38;5;124m'\u001b[39m\u001b[38;5;124mPopulation\u001b[39m\u001b[38;5;124m'\u001b[39m)[\u001b[38;5;124m'\u001b[39m\u001b[38;5;124mTotal Crimes\u001b[39m\u001b[38;5;124m'\u001b[39m]\u001b[38;5;241m.\u001b[39msum()\n\u001b[0;32m      3\u001b[0m \u001b[38;5;28mprint\u001b[39m(\u001b[38;5;124m\"\u001b[39m\u001b[38;5;130;01m\\n\u001b[39;00m\u001b[38;5;124mAnalysis of Population vs overall Crime:\u001b[39m\u001b[38;5;124m\"\u001b[39m)\n\u001b[0;32m      4\u001b[0m \u001b[38;5;28mprint\u001b[39m(population_vs_crime)\n",
      "\u001b[1;31mNameError\u001b[0m: name 'crime_data' is not defined"
     ]
    }
   ],
   "source": [
    "\n",
    "    # Analysis of Population vs overall Crime\n",
    "    population_vs_crime = crime_data.groupby('Population')['Total Crimes'].sum()\n",
    "    print(\"\\nAnalysis of Population vs overall Crime:\")\n",
    "    print(population_vs_crime)\n"
   ]
  },
  {
   "cell_type": "code",
   "execution_count": 28,
   "id": "66fdfa33",
   "metadata": {},
   "outputs": [
    {
     "ename": "NameError",
     "evalue": "name 'crime_data' is not defined",
     "output_type": "error",
     "traceback": [
      "\u001b[1;31m---------------------------------------------------------------------------\u001b[0m",
      "\u001b[1;31mNameError\u001b[0m                                 Traceback (most recent call last)",
      "Cell \u001b[1;32mIn[28], line 2\u001b[0m\n\u001b[0;32m      1\u001b[0m \u001b[38;5;66;03m# Each state crime report\u001b[39;00m\n\u001b[1;32m----> 2\u001b[0m state_crime_reports \u001b[38;5;241m=\u001b[39m \u001b[43mcrime_data\u001b[49m\u001b[38;5;241m.\u001b[39mgroupby(\u001b[38;5;124m'\u001b[39m\u001b[38;5;124mState\u001b[39m\u001b[38;5;124m'\u001b[39m)\u001b[38;5;241m.\u001b[39mapply(\u001b[38;5;28;01mlambda\u001b[39;00m x: x[[\u001b[38;5;124m'\u001b[39m\u001b[38;5;124mYear\u001b[39m\u001b[38;5;124m'\u001b[39m, \u001b[38;5;124m'\u001b[39m\u001b[38;5;124mCrime Type\u001b[39m\u001b[38;5;124m'\u001b[39m, \u001b[38;5;124m'\u001b[39m\u001b[38;5;124mTotal Crimes\u001b[39m\u001b[38;5;124m'\u001b[39m]]\u001b[38;5;241m.\u001b[39mto_string(index\u001b[38;5;241m=\u001b[39m\u001b[38;5;28;01mFalse\u001b[39;00m))\n\u001b[0;32m      3\u001b[0m \u001b[38;5;28mprint\u001b[39m(\u001b[38;5;124m\"\u001b[39m\u001b[38;5;130;01m\\n\u001b[39;00m\u001b[38;5;124mEach state crime report:\u001b[39m\u001b[38;5;124m\"\u001b[39m)\n\u001b[0;32m      4\u001b[0m \u001b[38;5;28mprint\u001b[39m(state_crime_reports)\n",
      "\u001b[1;31mNameError\u001b[0m: name 'crime_data' is not defined"
     ]
    }
   ],
   "source": [
    "\n",
    "    # Each state crime report\n",
    "    state_crime_reports = crime_data.groupby('State').apply(lambda x: x[['Year', 'Crime Type', 'Total Crimes']].to_string(index=False))\n",
    "    print(\"\\nEach state crime report:\")\n",
    "    print(state_crime_reports)\n",
    "\n"
   ]
  },
  {
   "cell_type": "code",
   "execution_count": 29,
   "id": "3bb84c9e",
   "metadata": {},
   "outputs": [
    {
     "ename": "TypeError",
     "evalue": "crime_analysis() missing 1 required positional argument: 'crime_data'",
     "output_type": "error",
     "traceback": [
      "\u001b[1;31m---------------------------------------------------------------------------\u001b[0m",
      "\u001b[1;31mTypeError\u001b[0m                                 Traceback (most recent call last)",
      "Cell \u001b[1;32mIn[29], line 2\u001b[0m\n\u001b[0;32m      1\u001b[0m \u001b[38;5;66;03m# Call the function to execute the analysis\u001b[39;00m\n\u001b[1;32m----> 2\u001b[0m \u001b[43mcrime_analysis\u001b[49m\u001b[43m(\u001b[49m\u001b[43m)\u001b[49m\n",
      "\u001b[1;31mTypeError\u001b[0m: crime_analysis() missing 1 required positional argument: 'crime_data'"
     ]
    }
   ],
   "source": [
    "# Call the function to execute the analysis\n",
    "crime_analysis()\n"
   ]
  }
 ],
 "metadata": {
  "kernelspec": {
   "display_name": "Python 3 (ipykernel)",
   "language": "python",
   "name": "python3"
  },
  "language_info": {
   "codemirror_mode": {
    "name": "ipython",
    "version": 3
   },
   "file_extension": ".py",
   "mimetype": "text/x-python",
   "name": "python",
   "nbconvert_exporter": "python",
   "pygments_lexer": "ipython3",
   "version": "3.10.9"
  }
 },
 "nbformat": 4,
 "nbformat_minor": 5
}
