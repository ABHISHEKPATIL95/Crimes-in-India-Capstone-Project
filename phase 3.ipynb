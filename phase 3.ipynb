{
 "cells": [
  {
   "cell_type": "code",
   "execution_count": 16,
   "id": "0ad8147a",
   "metadata": {},
   "outputs": [
    {
     "ename": "SyntaxError",
     "evalue": "invalid syntax (1736951634.py, line 1)",
     "output_type": "error",
     "traceback": [
      "\u001b[1;36m  Cell \u001b[1;32mIn[16], line 1\u001b[1;36m\u001b[0m\n\u001b[1;33m    LOAD DATA INFILE  r\"C:\\Users\\ABHI\\.ipynb_checkpoints\\India_Crime - Copy\\India_Crime - Copy\\42_District_wise_crimes_committed_against_women_2001_2012.csv\"\u001b[0m\n\u001b[1;37m         ^\u001b[0m\n\u001b[1;31mSyntaxError\u001b[0m\u001b[1;31m:\u001b[0m invalid syntax\n"
     ]
    }
   ],
   "source": [
    "LOAD DATA INFILE  r\"C:\\Users\\ABHI\\.ipynb_checkpoints\\India_Crime - Copy\\India_Crime - Copy\\42_District_wise_crimes_committed_against_women_2001_2012.csv\"\n",
    "INTO TABLE women_crimes_table\n",
    "FIELDS TERMINATED BY ','\n",
    "LINES TERMINATED BY '\\n'\n",
    "IGNORE 1 ROWS;\n"
   ]
  },
  {
   "cell_type": "code",
   "execution_count": 6,
   "id": "7e8fe995",
   "metadata": {},
   "outputs": [
    {
     "ename": "SyntaxError",
     "evalue": "invalid syntax (2111146826.py, line 1)",
     "output_type": "error",
     "traceback": [
      "\u001b[1;36m  Cell \u001b[1;32mIn[6], line 1\u001b[1;36m\u001b[0m\n\u001b[1;33m    SELECT State, District, Year, MAX(Rapes) AS MaxRapes, MAX(Kidnappings) AS MaxKidnappings\u001b[0m\n\u001b[1;37m           ^\u001b[0m\n\u001b[1;31mSyntaxError\u001b[0m\u001b[1;31m:\u001b[0m invalid syntax\n"
     ]
    }
   ],
   "source": [
    "SELECT State, District, Year, MAX(Rapes) AS MaxRapes, MAX(Kidnappings) AS MaxKidnappings\n",
    "FROM women_crimes_table\n",
    "GROUP BY State, District, Year\n",
    "ORDER BY MaxRapes DESC, MaxKidnappings DESC\n",
    "LIMIT 1;\n"
   ]
  },
  {
   "cell_type": "code",
   "execution_count": 7,
   "id": "f108bd9e",
   "metadata": {},
   "outputs": [
    {
     "ename": "SyntaxError",
     "evalue": "invalid syntax (3702648287.py, line 1)",
     "output_type": "error",
     "traceback": [
      "\u001b[1;36m  Cell \u001b[1;32mIn[7], line 1\u001b[1;36m\u001b[0m\n\u001b[1;33m    SELECT State, District, Year, MIN(Rapes) AS MinRapes, MIN(Kidnappings) AS MinKidnappings\u001b[0m\n\u001b[1;37m           ^\u001b[0m\n\u001b[1;31mSyntaxError\u001b[0m\u001b[1;31m:\u001b[0m invalid syntax\n"
     ]
    }
   ],
   "source": [
    "SELECT State, District, Year, MIN(Rapes) AS MinRapes, MIN(Kidnappings) AS MinKidnappings\n",
    "FROM women_crimes_table\n",
    "GROUP BY State, District, Year\n",
    "ORDER BY MinRapes, MinKidnappings\n"
   ]
  },
  {
   "cell_type": "code",
   "execution_count": 9,
   "id": "c41760c4",
   "metadata": {},
   "outputs": [
    {
     "ename": "SyntaxError",
     "evalue": "invalid syntax (439847258.py, line 1)",
     "output_type": "error",
     "traceback": [
      "\u001b[1;36m  Cell \u001b[1;32mIn[9], line 1\u001b[1;36m\u001b[0m\n\u001b[1;33m    LOAD DATA INFILE 'http://localhost:8888/edit/Downloads/India_Crime%20-%20Copy/India_Crime%20-%20Copy/02_District_wise_crimes_committed_against_ST_2001_2012.csv'\u001b[0m\n\u001b[1;37m         ^\u001b[0m\n\u001b[1;31mSyntaxError\u001b[0m\u001b[1;31m:\u001b[0m invalid syntax\n"
     ]
    }
   ],
   "source": [
    "LOAD DATA INFILE 'http://localhost:8888/edit/Downloads/India_Crime%20-%20Copy/India_Crime%20-%20Copy/02_District_wise_crimes_committed_against_ST_2001_2012.csv'\n",
    "INTO TABLE st_crimes_table\n",
    "FIELDS TERMINATED BY ','\n",
    "LINES TERMINATED BY '\\n'\n",
    "IGNORE 1 ROWS;\n"
   ]
  },
  {
   "cell_type": "code",
   "execution_count": 10,
   "id": "2852cbad",
   "metadata": {},
   "outputs": [
    {
     "ename": "SyntaxError",
     "evalue": "invalid syntax (1309623501.py, line 1)",
     "output_type": "error",
     "traceback": [
      "\u001b[1;36m  Cell \u001b[1;32mIn[10], line 1\u001b[1;36m\u001b[0m\n\u001b[1;33m    SELECT District, MAX(Dacoity_Robbery) AS MaxDacoityRobbery\u001b[0m\n\u001b[1;37m           ^\u001b[0m\n\u001b[1;31mSyntaxError\u001b[0m\u001b[1;31m:\u001b[0m invalid syntax\n"
     ]
    }
   ],
   "source": [
    "SELECT District, MAX(Dacoity_Robbery) AS MaxDacoityRobbery\n",
    "FROM st_crimes_table\n",
    "GROUP BY District\n",
    "ORDER BY MaxDacoityRobbery DESC\n",
    "LIMIT 1;\n"
   ]
  },
  {
   "cell_type": "code",
   "execution_count": 11,
   "id": "05d2e064",
   "metadata": {},
   "outputs": [
    {
     "ename": "SyntaxError",
     "evalue": "invalid syntax (3260236217.py, line 1)",
     "output_type": "error",
     "traceback": [
      "\u001b[1;36m  Cell \u001b[1;32mIn[11], line 1\u001b[1;36m\u001b[0m\n\u001b[1;33m    SELECT District, MIN(Murders) AS MinMurders\u001b[0m\n\u001b[1;37m           ^\u001b[0m\n\u001b[1;31mSyntaxError\u001b[0m\u001b[1;31m:\u001b[0m invalid syntax\n"
     ]
    }
   ],
   "source": [
    "SELECT District, MIN(Murders) AS MinMurders\n",
    "FROM st_crimes_table\n",
    "GROUP BY District\n",
    "ORDER BY MinMurders;\n"
   ]
  },
  {
   "cell_type": "code",
   "execution_count": 12,
   "id": "c61ca55c",
   "metadata": {},
   "outputs": [
    {
     "ename": "SyntaxError",
     "evalue": "invalid syntax (285594736.py, line 1)",
     "output_type": "error",
     "traceback": [
      "\u001b[1;36m  Cell \u001b[1;32mIn[12], line 1\u001b[1;36m\u001b[0m\n\u001b[1;33m    SELECT District, Year, Murders\u001b[0m\n\u001b[1;37m           ^\u001b[0m\n\u001b[1;31mSyntaxError\u001b[0m\u001b[1;31m:\u001b[0m invalid syntax\n"
     ]
    }
   ],
   "source": [
    "SELECT District, Year, Murders\n",
    "FROM st_crimes_table\n",
    "ORDER BY Murders, District, Year;\n"
   ]
  },
  {
   "cell_type": "code",
   "execution_count": 13,
   "id": "f5eb1a1c",
   "metadata": {},
   "outputs": [
    {
     "ename": "SyntaxError",
     "evalue": "invalid syntax (3872639319.py, line 1)",
     "output_type": "error",
     "traceback": [
      "\u001b[1;36m  Cell \u001b[1;32mIn[13], line 1\u001b[1;36m\u001b[0m\n\u001b[1;33m    LOAD DATA INFILE 'http://localhost:8888/edit/Downloads/India_Crime%20-%20Copy/India_Crime%20-%20Copy/01_District_wise_crimes_committed_IPC_2001_2012.csv'\u001b[0m\n\u001b[1;37m         ^\u001b[0m\n\u001b[1;31mSyntaxError\u001b[0m\u001b[1;31m:\u001b[0m invalid syntax\n"
     ]
    }
   ],
   "source": [
    "LOAD DATA INFILE 'http://localhost:8888/edit/Downloads/India_Crime%20-%20Copy/India_Crime%20-%20Copy/01_District_wise_crimes_committed_IPC_2001_2012.csv'\n",
    "INTO TABLE ipc_crimes_table\n",
    "FIELDS TERMINATED BY ','\n",
    "LINES TERMINATED BY '\\n'\n",
    "IGNORE 1 ROWS\n",
    "(STATE_UT, DISTRICT, YEAR, MURDER, ATTEMPT_TO_MURDER, RAPE);\n"
   ]
  },
  {
   "cell_type": "code",
   "execution_count": null,
   "id": "acd4cfc4",
   "metadata": {},
   "outputs": [],
   "source": []
  }
 ],
 "metadata": {
  "kernelspec": {
   "display_name": "Python 3 (ipykernel)",
   "language": "python",
   "name": "python3"
  },
  "language_info": {
   "codemirror_mode": {
    "name": "ipython",
    "version": 3
   },
   "file_extension": ".py",
   "mimetype": "text/x-python",
   "name": "python",
   "nbconvert_exporter": "python",
   "pygments_lexer": "ipython3",
   "version": "3.10.9"
  }
 },
 "nbformat": 4,
 "nbformat_minor": 5
}
